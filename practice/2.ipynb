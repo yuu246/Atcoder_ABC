{
 "cells": [
  {
   "cell_type": "code",
   "execution_count": null,
   "metadata": {},
   "outputs": [],
   "source": [
    "#動的計画法をがんばる\n",
    "N = int(input())\n",
    "h = list(map(int, input().split()))\n",
    "\n",
    "cost = [0] * N\n",
    "\n",
    "cost[1] = cost[0] + abs(h[0] - h[1])\n",
    "\n",
    "for i in range(2, N):\n",
    "    cost[i] = min(cost[i-1] + abs(h[i] - h[i-1], cost[i-2] + abs(h[i]- h[i-2])))\n",
    "\n",
    "print(cost[N-1])\n"
   ]
  },
  {
   "cell_type": "code",
   "execution_count": null,
   "metadata": {},
   "outputs": [],
   "source": [
    "N, L = map(int, input().split())\n",
    "hurdle = list(map(int, input().split()))\n",
    "T1, T2, T3 = map(int, input().split())\n",
    "\n",
    "flag = [False] * (L+1)\n",
    "for x in hurdle:\n",
    "    flag[x] = True\n",
    "\n",
    "\n",
    "cost = [10000000] * (L + 1)\n",
    "cost[0] = 0\n",
    "\n",
    "def action1(x):\n",
    "    cost = min(cost[i], cost[i-1] + T1)\n",
    "    return cost\n",
    "\n",
    "def action2(x):\n",
    "    cost = min(cost[i], cost[i-2] + T1 + T2)\n",
    "    return cost\n",
    "\n",
    "def action3(x):\n",
    "    cost = min(cost[i], cost[i-4] + T1 + 3 * T2)\n",
    "\n",
    "for i in range(1,, L+1):\n",
    "    if i < 2:\n",
    "        cost[i] = action1(i)\n",
    "    if 2 <= i < 4:\n",
    "        cost[i] = min(action1(i), action2(i))\n",
    "    if 4 <= i:\n",
    "        cost[i] = min(action1(i), action2(i), action3(i))\n",
    "    if flag[i]:\n",
    "        cost[i] += T3\n",
    "\n",
    "ans = cost[L]\n",
    "\n",
    "\n",
    "\n"
   ]
  },
  {
   "cell_type": "code",
   "execution_count": null,
   "metadata": {},
   "outputs": [],
   "source": [
    "N, W = list(map(int, input().split()))\n",
    "ws = [0]\n",
    "vs = [0]\n",
    "for i in range(N):\n",
    "    w, v = list(map(int, input().split()))\n",
    "    ws.append(w)\n",
    "    vs.append(v)\n",
    "\n",
    "value = []\n",
    "for i in range(N+1):\n",
    "    value.append([-100]*(W+1))\n",
    "\n",
    "value[0][0] = 0\n",
    "\n",
    "for i in range(1, N+1):\n",
    "    for w in range(W+1):\n",
    "        value[i][w] = max(value[i][w], value[i-1][w])\n",
    "        if w -ws[i] >= 0:\n",
    "            value[i][w] = max(value[i][w], value[i-1][w-ws[i]] + vs[i])\n",
    "\n",
    "ans = max(value[N])\n",
    "print(ans)"
   ]
  },
  {
   "cell_type": "code",
   "execution_count": null,
   "metadata": {},
   "outputs": [],
   "source": [
    "N, M = list(map(int, input().split()))\n",
    "Set = [0]\n",
    "Price = [0]\n",
    "for i in range(M):\n",
    "    x, y = input.split()\n",
    "    binary_score = 0\n",
    "    for j in range(N):\n",
    "        if x[j] == 'Y':\n",
    "            binary_score |= 1 << j\n",
    "    Set.append(binary_score)\n",
    "    Price.append(int(y))\n",
    "\n",
    "ALL = 1 << N\n",
    "\n",
    "cost = []\n",
    "INF = 10 ** 100\n",
    "for i in range(M+1):\n",
    "    cost.append([INF]*ALL)\n",
    "\n",
    "cost[0][0] = 0\n",
    "\n",
    "for i in range(1, M+1):\n",
    "    for n in range(ALL):\n",
    "        cost[i][n] = min(cost[i][n], cost[i-1][n])\n",
    "\n",
    "        cost[i][n|Set[i]] = min(cost[i][n|Set[i]], cost[i-1][n] + C[i])\n",
    "\n",
    "ans = cost[M][ALL-1]\n",
    "if ans == INF:\n",
    "    ans = -1\n",
    "\n",
    "print(ans)"
   ]
  },
  {
   "cell_type": "code",
   "execution_count": null,
   "metadata": {},
   "outputs": [],
   "source": [
    "# DFS\n",
    "\n",
    "from collections import deque\n",
    "\n",
    "N, W = map(int, input().split())\n",
    "\n",
    "G = []\n",
    "for _ in range(N):\n",
    "    G.append([])\n",
    "\n",
    "for _ in range(M):\n",
    "    x, y = map(int, input().split())\n",
    "    x -= 1\n",
    "    y -= 1\n",
    "    G[x].append(y)\n",
    "    G[y].append(x)\n",
    "\n",
    "distance = []\n",
    "for _ in range(N):\n",
    "    distance.append(-1)\n",
    "\n",
    "Q = deque()\n",
    "Q.append(0)\n",
    "distance[0]=0\n",
    "\n",
    "while len(Q) > 0:\n",
    "    i = Q.popleft()\n",
    "\n",
    "    for j in G[i]:\n",
    "        if distance[j] == -1:\n",
    "            distance[j] = distance[i]+1\n",
    "            Q.append(j)\n",
    "\n",
    "if distance[N-1] == 2:\n",
    "    print('POSSIBLE')\n",
    "else:\n",
    "    print('IMPOSSIBLE')"
   ]
  },
  {
   "cell_type": "code",
   "execution_count": null,
   "metadata": {},
   "outputs": [],
   "source": [
    "# ダイクストラ法\n",
    "import heapq\n",
    "\n",
    "N, M = map(int, input().split())\n",
    "\n",
    "graph = []\n",
    "for _ in range(N):\n",
    "    graph.append([])\n",
    "\n",
    "\n",
    "\n",
    "for _ in range(M):\n",
    "    x, y, c = map(int, input().split())\n",
    "    graph[x].append([y, c])\n",
    "\n",
    "dist = []\n",
    "for i in range(N):\n",
    "    dist.append(-1)\n",
    "\n",
    "visited = []\n",
    "for i in range(N):\n",
    "    visited.append(False)\n",
    "\n",
    "Q = []\n",
    "heapq.heappush(Q, (0, 0))\n",
    "dist[0] = 0\n",
    "\n",
    "while len(Q) > 0:\n",
    "    y, i = heapq.heappop(Q)\n",
    "    if visited[i]:\n",
    "        continue\n",
    "\n",
    "    visited[i] = True\n",
    "\n",
    "    for (j, c) in graph[i]:\n",
    "        if dist[j] == -1 or dist[j] > dist[i] + c:\n",
    "            dist[j] = dist[i] + c\n",
    "            heapq.heappush(Q, (dist[j], j))\n",
    "\n",
    "print(dist[N-1])\n"
   ]
  },
  {
   "cell_type": "code",
   "execution_count": 1,
   "metadata": {},
   "outputs": [
    {
     "ename": "ValueError",
     "evalue": "not enough values to unpack (expected 2, got 0)",
     "output_type": "error",
     "traceback": [
      "\u001b[1;31m---------------------------------------------------------------------------\u001b[0m",
      "\u001b[1;31mValueError\u001b[0m                                Traceback (most recent call last)",
      "Cell \u001b[1;32mIn [1], line 1\u001b[0m\n\u001b[1;32m----> 1\u001b[0m N, M \u001b[39m=\u001b[39m \u001b[39mmap\u001b[39m(\u001b[39mint\u001b[39m, \u001b[39minput\u001b[39m()\u001b[39m.\u001b[39msplit())\n\u001b[0;32m      3\u001b[0m graph \u001b[39m=\u001b[39m []\n\u001b[0;32m      4\u001b[0m INF \u001b[39m=\u001b[39m \u001b[39m10\u001b[39m\u001b[39m*\u001b[39m\u001b[39m*\u001b[39m\u001b[39m10\u001b[39m\n",
      "\u001b[1;31mValueError\u001b[0m: not enough values to unpack (expected 2, got 0)"
     ]
    }
   ],
   "source": [
    "N, M = map(int, input().split())\n",
    "\n",
    "graph = []\n",
    "INF = 10**10\n",
    "for i in range(N):\n",
    "    tmp = []\n",
    "    for j in range(N):\n",
    "        tmp.append(INF)\n",
    "    graph.append(tmp)\n",
    "\n",
    "for i in range(N):\n",
    "    graph[i][i] = 0\n",
    "\n",
    "for _ in range(M):\n",
    "    u, v, c = map(int, input().split())\n",
    "    graph[u][v] = c\n",
    "\n",
    "for k in range(N):\n",
    "    for x in range(N):\n",
    "        for y in range(N):\n",
    "            graph[x][y] = min(graph[x][y], graph[x][k] + graph[k][y])\n",
    "\n",
    "ans = 0\n",
    "for i in range(N):\n",
    "    for j in range(N):\n",
    "        ans += graph[i][j]\n",
    "\n",
    "print(ans)\n",
    "\n"
   ]
  },
  {
   "cell_type": "code",
   "execution_count": null,
   "metadata": {},
   "outputs": [],
   "source": [
    "#プリム法の実装\n",
    "\n",
    "import heapq\n",
    "\n",
    "N, M = map(int, input().split())\n",
    "\n",
    "INF = 10*10\n",
    "\n",
    "graph = []\n",
    "for _ in range(N):\n",
    "    graph.append([])\n",
    "\n",
    "for _ in range(M):\n",
    "    u, v, c = map(int, input().split())\n",
    "    graph[u].append((v, c))\n",
    "    graph[v].append((u, c))\n",
    "\n",
    "marked = []\n",
    "for _ in range(N):\n",
    "    marked.append(False)\n",
    "\n",
    "marked[0] = True\n",
    "\n",
    "Q = []\n",
    "\n",
    "for y, c in graph[0]:\n",
    "    heapq.heappush(Q, (c, y))\n",
    "\n",
    "sum = 0\n",
    "\n",
    "while len(Q) > 0:\n",
    "    c, i = heapq.heappop(Q)\n",
    "\n",
    "    if marked[i]:\n",
    "        continue\n",
    "\n",
    "    marked[i] = True\n",
    "    sum += c\n",
    "\n",
    "    for (j, c) in graph[i]:\n",
    "        if marked[j]:\n",
    "            continue\n",
    "\n",
    "        heapq.heappush(Q, (c, j))\n",
    "\n",
    "print(sum)\n"
   ]
  },
  {
   "cell_type": "code",
   "execution_count": 9,
   "metadata": {},
   "outputs": [
    {
     "ename": "ValueError",
     "evalue": "invalid literal for int() with base 10: ''",
     "output_type": "error",
     "traceback": [
      "\u001b[1;31m---------------------------------------------------------------------------\u001b[0m",
      "\u001b[1;31mValueError\u001b[0m                                Traceback (most recent call last)",
      "Cell \u001b[1;32mIn [9], line 1\u001b[0m\n\u001b[1;32m----> 1\u001b[0m N \u001b[39m=\u001b[39m \u001b[39mint\u001b[39;49m(\u001b[39minput\u001b[39;49m())\n\u001b[0;32m      3\u001b[0m S_list \u001b[39m=\u001b[39m []\n\u001b[0;32m      4\u001b[0m \u001b[39mfor\u001b[39;00m _ \u001b[39min\u001b[39;00m \u001b[39mrange\u001b[39m(N):\n",
      "\u001b[1;31mValueError\u001b[0m: invalid literal for int() with base 10: ''"
     ]
    }
   ],
   "source": [
    "N = int(input())\n",
    "\n",
    "S_list = []\n",
    "for _ in range(N):\n",
    "    s = input()\n",
    "    S_list.append(s)\n",
    "\n",
    "ok = 0\n",
    "for i in range(N):\n",
    "    if S_list[i] == 'For':\n",
    "        ok += 1\n",
    "\n",
    "if ok <= (N // 2):\n",
    "    print('No')\n",
    "if ok > (N // 2):\n",
    "    print('Yes')\n",
    "\n",
    "\n"
   ]
  },
  {
   "cell_type": "code",
   "execution_count": 6,
   "metadata": {},
   "outputs": [
    {
     "data": {
      "text/plain": [
       "2"
      ]
     },
     "execution_count": 6,
     "metadata": {},
     "output_type": "execute_result"
    }
   ],
   "source": [
    "5 // 2"
   ]
  },
  {
   "cell_type": "code",
   "execution_count": 17,
   "metadata": {},
   "outputs": [
    {
     "ename": "ValueError",
     "evalue": "not enough values to unpack (expected 2, got 0)",
     "output_type": "error",
     "traceback": [
      "\u001b[1;31m---------------------------------------------------------------------------\u001b[0m",
      "\u001b[1;31mValueError\u001b[0m                                Traceback (most recent call last)",
      "Cell \u001b[1;32mIn [17], line 1\u001b[0m\n\u001b[1;32m----> 1\u001b[0m N, M \u001b[39m=\u001b[39m \u001b[39mmap\u001b[39m(\u001b[39mint\u001b[39m, \u001b[39minput\u001b[39m()\u001b[39m.\u001b[39msplit())\n\u001b[0;32m      3\u001b[0m S_list \u001b[39m=\u001b[39m \u001b[39mset\u001b[39m()\n\u001b[0;32m      4\u001b[0m T_list \u001b[39m=\u001b[39m \u001b[39mset\u001b[39m()\n",
      "\u001b[1;31mValueError\u001b[0m: not enough values to unpack (expected 2, got 0)"
     ]
    }
   ],
   "source": [
    "N, M = map(int, input().split())\n",
    "\n",
    "S_list = []\n",
    "T_list = set()\n",
    "\n",
    "for _ in range(N):\n",
    "    s = input()\n",
    "    S_list.append(s)\n",
    "\n",
    "for _ in range(M):\n",
    "    t = input()\n",
    "    T_list.add(t)\n",
    "\n",
    "ans = 0\n",
    "M = len(T_list)\n",
    "\n",
    "for i in range(N):\n",
    "    for j in T_list:\n",
    "        if S_list[i].endswith(j):\n",
    "            ans += 1\n",
    "\n",
    "print(ans)"
   ]
  },
  {
   "cell_type": "code",
   "execution_count": 16,
   "metadata": {},
   "outputs": [
    {
     "name": "stdout",
     "output_type": "stream",
     "text": [
      "coder\n",
      "aoder\n",
      "atder\n",
      "atcer\n",
      "atcor\n",
      "atcod\n"
     ]
    }
   ],
   "source": [
    "S = 'atcoder'\n",
    "T = '?????'\n",
    "\n",
    "\n",
    "length = len(T)\n",
    "for x in range(length + 1):\n",
    "    if x == 0:\n",
    "        S_dash = S[-length:]\n",
    "    elif x == length:\n",
    "        S_dash = S[:x]\n",
    "    else:\n",
    "        S_dash = S[:x] + S[-(length -x):]\n",
    "    print(S_dash)"
   ]
  },
  {
   "cell_type": "code",
   "execution_count": 1,
   "metadata": {},
   "outputs": [
    {
     "data": {
      "text/plain": [
       "[0, 0, 0]"
      ]
     },
     "execution_count": 1,
     "metadata": {},
     "output_type": "execute_result"
    }
   ],
   "source": [
    "ans = [0] * 3\n",
    "ans"
   ]
  },
  {
   "cell_type": "code",
   "execution_count": 2,
   "metadata": {},
   "outputs": [],
   "source": [
    "N = int(input())\n",
    "S_list = []\n",
    "for i in range(N):\n",
    "    s = input()\n",
    "    S_list.append([s, i])\n",
    "\n",
    "sorted_list = sorted(S_list)"
   ]
  },
  {
   "cell_type": "code",
   "execution_count": 3,
   "metadata": {},
   "outputs": [
    {
     "name": "stdout",
     "output_type": "stream",
     "text": [
      "[['aac', 2], ['abb', 1], ['abc', 0]]\n"
     ]
    }
   ],
   "source": [
    "print(sorted_list)"
   ]
  },
  {
   "cell_type": "code",
   "execution_count": 1,
   "metadata": {},
   "outputs": [
    {
     "name": "stdout",
     "output_type": "stream",
     "text": [
      "[['d', 'a', 'd', 'f', 'a', 's', 'd', 'g', 's', 'e', 'r', 'h', 'j', 'k', 'n', 'a', 'f', 'l', 'k', ';', 'g', 'j', 'v', 'n', 'm', 'a']]\n"
     ]
    }
   ],
   "source": [
    "graph = []\n",
    "\n",
    "A = list(input())\n",
    "graph.append(A)\n",
    "\n",
    "print(graph)"
   ]
  },
  {
   "cell_type": "code",
   "execution_count": null,
   "metadata": {},
   "outputs": [],
   "source": [
    "from collections import deque"
   ]
  },
  {
   "cell_type": "code",
   "execution_count": null,
   "metadata": {},
   "outputs": [],
   "source": [
    "from collections import deque\n",
    "\n",
    "R, C = map(int, input().split())\n",
    "\n",
    "sx, sy = map(int, input().split())\n",
    "sx -= 1\n",
    "sy -= 1\n",
    "\n",
    "gx, gy = map(int, input().split())\n",
    "gx -= 1\n",
    "gy -= 1\n",
    "\n",
    "graph = []\n",
    "for _ in range(R):\n",
    "    c = list(input())\n",
    "    graph.append(c)\n",
    "\n",
    "dist = []\n",
    "for _ in range(R):\n",
    "    tmp = []\n",
    "    for _ in range(C):\n",
    "        tmp.append(-1)\n",
    "\n",
    "Q = deque()\n",
    "Q.append([sx, sy])\n",
    "dist[sx][sy] = 0\n",
    "\n",
    "while len(Q) > 0:\n",
    "    x, y = Q.popleft()\n",
    "\n",
    "    if graph[x+1][y] == '.':\n",
    "        dist[x+1][y] = dist[x][y] + 1\n",
    "        Q.append([x+1, y])\n",
    "    \n",
    "    if graph[x-1][y] == '.':\n",
    "        dist[x-1][y] = dist[x][y] + 1\n",
    "        Q.append([x-1, y])\n",
    "    \n",
    "    if graph[x][y+1] == '.':\n",
    "        dist[x][y+1] = dist[x][y] + 1\n",
    "        Q.append([x, y+1])\n",
    "    \n",
    "    if graph[x][y-1] == '.':\n",
    "        dist[x][y-1] = dist[x][y] + 1\n",
    "        Q.append([x, y-1])\n",
    "\n",
    "print(dist[gx][gy])"
   ]
  },
  {
   "cell_type": "code",
   "execution_count": null,
   "metadata": {},
   "outputs": [],
   "source": [
    "import sys\n",
    "sys.setrecursionlimit(100000000)\n",
    "\n",
    "visited = []\n",
    "for _ in range(N):\n",
    "    visited.append(False)\n",
    "\n",
    "def dfs(i):\n",
    "    visited[i] = True\n",
    "    for j in graph[i]:\n",
    "        if not visited[j]:\n",
    "            dfs(j)"
   ]
  },
  {
   "cell_type": "code",
   "execution_count": null,
   "metadata": {},
   "outputs": [],
   "source": [
    "N = int(input())\n",
    "\n",
    "ans = 0\n",
    "\n",
    "def dfs(n , use3, use5, use7):\n",
    "    global ans\n",
    "\n",
    "    if n > N:\n",
    "        return\n",
    "    if use3 and use5 and use7:\n",
    "        ans += 1\n",
    "    dfs(10*n+3, True, use5, use7)\n",
    "    dfs(10*n+5, use3, True, use7)\n",
    "    dfs(10*n+7, use3, use5, True)\n",
    "    "
   ]
  },
  {
   "cell_type": "code",
   "execution_count": null,
   "metadata": {},
   "outputs": [],
   "source": []
  }
 ],
 "metadata": {
  "kernelspec": {
   "display_name": "Python 3",
   "language": "python",
   "name": "python3"
  },
  "language_info": {
   "codemirror_mode": {
    "name": "ipython",
    "version": 3
   },
   "file_extension": ".py",
   "mimetype": "text/x-python",
   "name": "python",
   "nbconvert_exporter": "python",
   "pygments_lexer": "ipython3",
   "version": "3.10.6"
  },
  "orig_nbformat": 4,
  "vscode": {
   "interpreter": {
    "hash": "916dbcbb3f70747c44a77c7bcd40155683ae19c65e1c03b4aa3499c5328201f1"
   }
  }
 },
 "nbformat": 4,
 "nbformat_minor": 2
}
