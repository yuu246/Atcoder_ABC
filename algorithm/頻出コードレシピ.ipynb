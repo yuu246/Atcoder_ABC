{
 "cells": [
  {
   "cell_type": "code",
   "execution_count": null,
   "metadata": {},
   "outputs": [],
   "source": [
    "#　N*N次元配列のgraphを作成　value = Falseがデフォ\n",
    "def create_graph(N = 5, value = False):\n",
    "    graph = []\n",
    "    for i in range(N):\n",
    "        row = []\n",
    "        for j in range(N):\n",
    "            row.append(value)\n",
    "        graph.append(row)\n",
    "    return graph"
   ]
  },
  {
   "cell_type": "code",
   "execution_count": null,
   "metadata": {},
   "outputs": [],
   "source": []
  }
 ],
 "metadata": {
  "kernelspec": {
   "display_name": "Python 3",
   "language": "python",
   "name": "python3"
  },
  "language_info": {
   "codemirror_mode": {
    "name": "ipython",
    "version": 3
   },
   "file_extension": ".py",
   "mimetype": "text/x-python",
   "name": "python",
   "nbconvert_exporter": "python",
   "pygments_lexer": "ipython3",
   "version": "3.8.10"
  },
  "orig_nbformat": 4,
  "vscode": {
   "interpreter": {
    "hash": "bd66b7c64aa1dbe699f76549628d6f0b40563e0cc73f9f347f3220962b3a31c8"
   }
  }
 },
 "nbformat": 4,
 "nbformat_minor": 2
}
