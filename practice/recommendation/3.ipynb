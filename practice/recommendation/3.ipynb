git {
 "cells": [
  {
   "cell_type": "code",
<<<<<<< HEAD
   "execution_count": 3,
   "metadata": {},
   "outputs": [
    {
     "data": {
      "text/plain": [
       "[4]"
      ]
     },
     "execution_count": 3,
     "metadata": {},
     "output_type": "execute_result"
    }
   ],
   "source": [
    "A = [1, 4, 3, 5]\n",
    "\n",
    "A[1:2]"
=======
   "execution_count": null,
   "metadata": {},
   "outputs": [],
   "source": [
    "a = []\n",
    "dir(a)"
>>>>>>> refs/remotes/origin/main
   ]
  },
  {
   "cell_type": "code",
   "execution_count": 2,
   "metadata": {},
   "outputs": [
    {
     "name": "stdout",
     "output_type": "stream",
     "text": [
<<<<<<< HEAD
      "(0, 0, 0)\n",
      "(0, 0, 1)\n",
      "(0, 1, 0)\n",
      "(0, 1, 1)\n",
      "(1, 0, 0)\n",
      "(1, 0, 1)\n",
      "(1, 1, 0)\n",
      "(1, 1, 1)\n"
=======
      "Help on built-in function append:\n",
      "\n",
      "append(object, /) method of builtins.list instance\n",
      "    Append object to the end of the list.\n",
      "\n"
>>>>>>> refs/remotes/origin/main
     ]
    }
   ],
   "source": [
<<<<<<< HEAD
    "from itertools import product\n",
    "for i in product((0, 1), repeat=3):\n",
    "    print(i)"
=======
    "help(a.append)"
   ]
  },
  {
   "cell_type": "code",
   "execution_count": 6,
   "metadata": {},
   "outputs": [
    {
     "name": "stdout",
     "output_type": "stream",
     "text": [
      "<class 'list'>\n"
     ]
    }
   ],
   "source": [
    "unknown_list = []\n",
    "print(unknown_list.__class__)"
>>>>>>> refs/remotes/origin/main
   ]
  },
  {
   "cell_type": "code",
   "execution_count": 7,
   "metadata": {},
   "outputs": [
    {
     "name": "stdout",
     "output_type": "stream",
     "text": [
<<<<<<< HEAD
      "1\n",
      "0\n"
=======
      "Hello Python\n"
>>>>>>> refs/remotes/origin/main
     ]
    }
   ],
   "source": [
<<<<<<< HEAD
    "for i in range(1, -1, -1):\n",
    "    print(i)"
   ]
  },
  {
   "cell_type": "code",
   "execution_count": 8,
   "metadata": {},
   "outputs": [
    {
     "data": {
      "text/plain": [
       "15"
      ]
     },
     "execution_count": 8,
     "metadata": {},
     "output_type": "execute_result"
    }
   ],
   "source": [
    "graph = [\n",
    "[2,3],\n",
    "[1,4,5],\n",
    "[1,6,7],\n",
    "[2,8,9],\n",
    "[2,10,11],\n",
    "[3,12,13],\n",
    "[3,14,15],\n",
    "[4],\n",
    "[4],\n",
    "[5],\n",
    "[5],\n",
    "[6],\n",
    "[6],\n",
    "[7],\n",
    "[7]\n",
    "]\n",
    "len(graph)"
=======
    "class HelloPython:\n",
    "    def __init__(self) -> None:\n",
    "        print('Hello Python')\n",
    "\n",
    "hi = HelloPython()"
>>>>>>> refs/remotes/origin/main
   ]
  },
  {
   "cell_type": "code",
   "execution_count": 9,
   "metadata": {},
<<<<<<< HEAD
   "outputs": [],
   "source": [
    "S = list(input())\n",
    "\n",
    "length = len(S)"
=======
   "outputs": [
    {
     "name": "stdout",
     "output_type": "stream",
     "text": [
      "<class '__main__.WhatIsSelf'>\n",
      "<__main__.WhatIsSelf object at 0x7fcfa06ad660>\n"
     ]
    }
   ],
   "source": [
    "class WhatIsSelf:\n",
    "    def __init__(self) -> None:\n",
    "        print(type(self))\n",
    "        print(self)\n",
    "\n",
    "a = WhatIsSelf()\n",
    "\n",
    "# self 「 インスタンス として の 自分自身」"
>>>>>>> refs/remotes/origin/main
   ]
  },
  {
   "cell_type": "code",
<<<<<<< HEAD
   "execution_count": 10,
=======
   "execution_count": null,
   "metadata": {},
   "outputs": [],
   "source": [
    "class MyClass:\n",
    "    def __init__(self) -> None:\n",
    "        self.a = 0\n",
    "        b = 0\n",
    "\n",
    "    def set_a(self, value):\n",
    "        self.a = value\n",
    "    \n",
    "    def get_a(self):\n",
    "        return self.a\n",
    "\n",
    "    def set_b(self, value):\n",
    "         b = value\n",
    "    \n",
    "    def get_b(self):\n",
    "        return b\n",
    "    "
   ]
  },
  {
   "cell_type": "code",
   "execution_count": 11,
   "metadata": {},
   "outputs": [
    {
     "data": {
      "text/plain": [
       "['_TestPrivate__method2',\n",
       " '_TestPrivate__var2',\n",
       " '__class__',\n",
       " '__delattr__',\n",
       " '__dict__',\n",
       " '__dir__',\n",
       " '__doc__',\n",
       " '__eq__',\n",
       " '__format__',\n",
       " '__ge__',\n",
       " '__getattribute__',\n",
       " '__gt__',\n",
       " '__hash__',\n",
       " '__init__',\n",
       " '__init_subclass__',\n",
       " '__le__',\n",
       " '__lt__',\n",
       " '__module__',\n",
       " '__ne__',\n",
       " '__new__',\n",
       " '__reduce__',\n",
       " '__reduce_ex__',\n",
       " '__repr__',\n",
       " '__setattr__',\n",
       " '__sizeof__',\n",
       " '__str__',\n",
       " '__subclasshook__',\n",
       " '__weakref__',\n",
       " 'method1',\n",
       " 'var']"
      ]
     },
     "execution_count": 11,
     "metadata": {},
     "output_type": "execute_result"
    }
   ],
   "source": [
    "class TestPrivate:\n",
    "    def __init__(self):\n",
    "        self.var = 'var1'\n",
    "        self.__var2 = 'var2'\n",
    "\n",
    "    def method1(self):\n",
    "        print('method1')\n",
    "\n",
    "    def __method2(self):\n",
    "        print('method2')\n",
    "\n",
    "b = TestPrivate()\n",
    "dir(b)"
   ]
  },
  {
   "cell_type": "code",
   "execution_count": 15,
>>>>>>> refs/remotes/origin/main
   "metadata": {},
   "outputs": [
    {
     "name": "stdout",
     "output_type": "stream",
     "text": [
<<<<<<< HEAD
      "2\n"
=======
      "8\n"
>>>>>>> refs/remotes/origin/main
     ]
    }
   ],
   "source": [
<<<<<<< HEAD
    "print(length)"
   ]
=======
    "bob = Manager()\n",
    "bob.work_a()"
   ]
  },
  {
   "cell_type": "code",
   "execution_count": 17,
   "metadata": {},
   "outputs": [
    {
     "data": {
      "text/plain": [
       "['/home/yusuke/Atcoder_ABC/practice',\n",
       " '/usr/lib/python310.zip',\n",
       " '/usr/lib/python3.10',\n",
       " '/usr/lib/python3.10/lib-dynload',\n",
       " '',\n",
       " '/home/yusuke/.local/lib/python3.10/site-packages',\n",
       " '/usr/local/lib/python3.10/dist-packages',\n",
       " '/usr/lib/python3/dist-packages']"
      ]
     },
     "execution_count": 17,
     "metadata": {},
     "output_type": "execute_result"
    }
   ],
   "source": [
    "import sys\n",
    "sys.path"
   ]
  },
  {
   "cell_type": "code",
   "execution_count": 4,
   "metadata": {},
   "outputs": [
    {
     "name": "stdout",
     "output_type": "stream",
     "text": [
      "3\n"
     ]
    }
   ],
   "source": [
    "my_print = lambda x : print(f'{x}')\n",
    "my_print(3)"
   ]
  },
  {
   "cell_type": "code",
   "execution_count": null,
   "metadata": {},
   "outputs": [],
   "source": []
>>>>>>> refs/remotes/origin/main
  }
 ],
 "metadata": {
  "kernelspec": {
   "display_name": "Python 3",
   "language": "python",
   "name": "python3"
  },
  "language_info": {
   "codemirror_mode": {
    "name": "ipython",
    "version": 3
   },
   "file_extension": ".py",
   "mimetype": "text/x-python",
   "name": "python",
   "nbconvert_exporter": "python",
   "pygments_lexer": "ipython3",
<<<<<<< HEAD
   "version": "3.10.6 (main, Nov  2 2022, 18:53:38) [GCC 11.3.0]"
=======
   "version": "3.10.6"
>>>>>>> refs/remotes/origin/main
  },
  "orig_nbformat": 4,
  "vscode": {
   "interpreter": {
    "hash": "916dbcbb3f70747c44a77c7bcd40155683ae19c65e1c03b4aa3499c5328201f1"
   }
  }
 },
 "nbformat": 4,
 "nbformat_minor": 2
}
