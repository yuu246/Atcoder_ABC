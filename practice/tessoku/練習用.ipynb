{
 "cells": [
  {
   "cell_type": "code",
   "execution_count": null,
   "metadata": {},
   "outputs": [],
   "source": [
    "A = [[2, 0], [0, 5], [1, 2]]\n",
    "print(A[2][0])"
   ]
  },
  {
   "cell_type": "code",
   "execution_count": null,
   "metadata": {},
   "outputs": [],
   "source": [
    "N, X = map(int, input().split())\n",
    "A = list(map(int, input().split()))\n",
    "\n",
    "left = 0\n",
    "right = (N - 1)\n",
    "\n",
    "\n",
    "while left <= right:\n",
    "    mid = (left + right)//2\n",
    "    if A[mid] == X:\n",
    "        print(mid+1)\n",
    "        break\n",
    "    if A[mid] > X:\n",
    "        right = mid - 1   \n",
    "    if A[mid] < X:\n",
    "        left = mid + 1"
   ]
  },
  {
   "cell_type": "code",
   "execution_count": null,
   "metadata": {},
   "outputs": [],
   "source": [
    "N = int(input())\n",
    "A = list(map(int, input().split()))\n",
    "B = list(map(int, input().split()))\n",
    "\n",
    "dp = [0]*(N + 1)\n",
    "dp[2] = A[0]\n",
    "for i in range(3, N+1):\n",
    "    dp[i] = min(dp[i-1] + A[i-2], dp[i-2] + B[i-3])\n",
    "\n",
    "print(dp[N])\n"
   ]
  },
  {
   "cell_type": "code",
   "execution_count": null,
   "metadata": {},
   "outputs": [],
   "source": [
    "N = int(input())\n",
    "A = list(map(int, input().split()))\n",
    "B = list(map(int, input().split()))\n",
    "\n",
    "\n",
    "dp = [None]*(N+1)\n",
    "dp[1] = 0\n",
    "dp[2] = A[0]\n",
    "\n",
    "for i in range(3, N+1):\n",
    "    dp[i] = min(dp[i-1] + A[i-2], dp[i-2] + B[i-3])\n",
    "\n",
    "ans = []\n",
    "Place = N\n",
    "while True:\n",
    "    ans.append(Place)\n",
    "    if Place == 1:\n",
    "        break\n",
    "\n",
    "    if dp[Place] == dp[Place-1] + A[Place-2]:\n",
    "        Place = Place - 1\n",
    "    else:\n",
    "        Place = Place - 2\n",
    "\n",
    "ans.reverse()\n",
    "print(len(ans))\n",
    "print(*ans)"
   ]
  },
  {
   "cell_type": "code",
   "execution_count": 2,
   "metadata": {},
   "outputs": [
    {
     "name": "stdout",
     "output_type": "stream",
     "text": [
      "True\n"
     ]
    }
   ],
   "source": [
    "N, S = map(int, input().split())\n",
    "A = [0]\n",
    "a = list(map(int, input().split()))\n",
    "A = A + a\n",
    "\n",
    "dp = []\n",
    "for i in range(N+1):\n",
    "    tmp = [False] * (S+1)\n",
    "    dp.append(tmp)\n",
    "\n",
    "dp[0][0] = True\n",
    "for i in range(1, N+1):\n",
    "    dp[i] = dp[i-1]\n",
    "    num = A[i]\n",
    "    for j in range(1, S+1):\n",
    "        if dp[i-1][j-num]:\n",
    "            dp[i][j] = True\n",
    "\n",
    "if dp[N][S]:\n",
    "    print('Yes')\n",
    "else:\n",
    "    print('No')"
   ]
  }
 ],
 "metadata": {
  "kernelspec": {
   "display_name": "Python 3",
   "language": "python",
   "name": "python3"
  },
  "language_info": {
   "codemirror_mode": {
    "name": "ipython",
    "version": 3
   },
   "file_extension": ".py",
   "mimetype": "text/x-python",
   "name": "python",
   "nbconvert_exporter": "python",
   "pygments_lexer": "ipython3",
   "version": "3.10.6"
  },
  "orig_nbformat": 4,
  "vscode": {
   "interpreter": {
    "hash": "916dbcbb3f70747c44a77c7bcd40155683ae19c65e1c03b4aa3499c5328201f1"
   }
  }
 },
 "nbformat": 4,
 "nbformat_minor": 2
}
