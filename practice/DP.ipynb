{
 "cells": [
  {
   "cell_type": "code",
   "execution_count": null,
   "metadata": {},
   "outputs": [],
   "source": [
    "# 部分的な解を漸次的に求めて全体の解を求める\n",
    "# 状態定義と漸化式を考えたらあとは実装あるのみ\n",
    "# まず DP の流れを以下に説明する。\n",
    "\n",
    "# 0） 与えられた問題をN回の繰り返し問題に分割する。\n",
    "# 1） 1 回目の最適解を求める。\n",
    "# 2） 1 回目の最適解をもとに 2 回目の最適解を求める\n",
    "# 3） 2 回目までの最適解をもとに 3 回目の最適解を求める\n",
    "# 4） 3 回目までの最適解をもとに 4 回目の最適解を求める\n",
    "# （中略）\n",
    "# n） n-1 回目まで最適解をもとに n 回目の最適解を求める\n",
    "\n",
    "# このように、繰り返される部分問題の最適解を、それより前の問題の最適解をもとに求めるアルゴリズムが DP である。DP は漸化式を用いると実装しやすい。"
   ]
  },
  {
   "cell_type": "code",
   "execution_count": null,
   "metadata": {},
   "outputs": [],
   "source": [
    "# flog https://atcoder.jp/contests/dp/tasks/dp_a\n",
    "N = int(input())\n",
    "costs = list(map(int, input().split()))\n",
    "\n",
    "dp = [0] * N\n",
    "dp[0] = 0\n",
    "dp[1] = dp[0] + abs(costs[1] - costs[0])\n",
    "for i in range(2, N):\n",
    "    dp[i] = min(dp[i-1] + abs(costs[i] - costs[i-1]), dp[i-2] + abs(costs[i] - costs[i-2]))\n",
    "\n",
    "print(dp[N-1])"
   ]
  },
  {
   "cell_type": "code",
   "execution_count": 6,
   "metadata": {},
   "outputs": [
    {
     "name": "stdout",
     "output_type": "stream",
     "text": [
      "136\n"
     ]
    }
   ],
   "source": [
    "N, L = map(int, input().split())\n",
    "X = list(map(int, input().split()))\n",
    "T1, T2, T3 = map(int, input().split())\n",
    "\n",
    "hurdle = [False]*(L+1)\n",
    "for x in X:\n",
    "    hurdle[x] = True\n",
    "\n",
    "costs = [10**100]*(L+1)\n",
    "costs[0] = 0\n",
    "\n",
    "\n",
    "for i in range(1, L+1):\n",
    "    costs[i] = min(costs[i], costs[i-1] + T1)\n",
    "    if i >= 2:\n",
    "        costs[i] = min(costs[i], costs[i-2] + T1 + T2)\n",
    "    if i >= 4:\n",
    "        costs[i] = min(costs[i], costs[i-4] + T1 + 3*T2)\n",
    "    if hurdle[i]:\n",
    "        costs[i] += T3\n",
    "\n",
    "ans = costs[L]\n",
    "if L-3 >= 0:\n",
    "    ans = min(ans,costs[L-3] + (T1+5*T2)//2)\n",
    "if L-2 >= 0:\n",
    "    ans = min(ans,costs[L-2] + (T1+3*T2)//2)\n",
    "if L-1 >= 0:\n",
    "    ans = min(ans,costs[L-1] + (T1+T2)//2)\n",
    "\n",
    "print(ans)"
   ]
  },
  {
   "cell_type": "code",
   "execution_count": null,
   "metadata": {},
   "outputs": [],
   "source": [
    "N, W = map(int, input().split())\n",
    "ws = [0]\n",
    "vs = [0]\n",
    "for _ in range(N):\n",
    "    w, v = map(int, input().split())\n",
    "    ws.append(w)\n",
    "    vs.append(v)\n",
    "\n",
    "dp = []\n",
    "for _ in range(N+1):\n",
    "    dp.append([-10**10]*(W+1))\n",
    "\n",
    "dp[0] = 0\n",
    "\n",
    "for i in range(1, N+1):\n",
    "    for w in range(W+1):\n",
    "        dp[i][w] = max(dp[i][w], dp[i-1][w])\n",
    "\n",
    "        if w - ws[i] > 0:\n",
    "            dp[i][w] = max(dp[i][w], dp[i-1][w-ws[i]] + vs[i])\n",
    "\n",
    "ans = max(dp[N])\n",
    "print(ans)"
   ]
  },
  {
   "cell_type": "code",
   "execution_count": null,
   "metadata": {},
   "outputs": [],
   "source": [
    "N = int(input())\n",
    "point = [0]\n",
    "x =list(map(int, input().split()))\n",
    "point.append(x)\n",
    "P = sum(point)\n",
    "\n",
    "dp = []\n",
    "for i in range(N+1):\n",
    "    dp.append([False]*(P+1))\n",
    "\n",
    "dp[0][0] = True\n",
    "\n",
    "for i in range(1, N+1):\n",
    "    for s in range(P+1):\n",
    "        if dp[i-1][s]:\n",
    "            dp[i][s] = True\n",
    "        if s >= point[i] and dp[i-1][s-point[i]]:\n",
    "            dp[i][s] = True\n",
    "\n",
    "ans = 0\n",
    "for s in range(P+1):\n",
    "    if dp[N][s]:\n",
    "        ans += 1\n",
    "\n",
    "print(ans)"
   ]
  }
 ],
 "metadata": {
  "kernelspec": {
   "display_name": "Python 3",
   "language": "python",
   "name": "python3"
  },
  "language_info": {
   "codemirror_mode": {
    "name": "ipython",
    "version": 3
   },
   "file_extension": ".py",
   "mimetype": "text/x-python",
   "name": "python",
   "nbconvert_exporter": "python",
   "pygments_lexer": "ipython3",
   "version": "3.10.6"
  },
  "orig_nbformat": 4,
  "vscode": {
   "interpreter": {
    "hash": "916dbcbb3f70747c44a77c7bcd40155683ae19c65e1c03b4aa3499c5328201f1"
   }
  }
 },
 "nbformat": 4,
 "nbformat_minor": 2
}
