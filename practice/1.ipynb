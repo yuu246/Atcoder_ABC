{
 "cells": [
  {
   "cell_type": "code",
   "execution_count": 21,
   "metadata": {},
   "outputs": [
    {
     "name": "stdout",
     "output_type": "stream",
     "text": [
      ".X.\n",
      "#X#\n"
     ]
    }
   ],
   "source": [
    "graph = []\n",
    "\n",
    "N = int(input())\n",
    "\n",
    "for _ in range(N):\n",
    "    tmp = list(input())\n",
    "    graph.append(tmp)\n",
    "\n",
    "for x in range(N-1, 0, -1):\n",
    "    for y in range(2*N-1):\n",
    "        if graph[x][y] == 'X':\n",
    "            if graph[x-1][y-1] == '#':\n",
    "                graph[x-1][y-1] = 'X'\n",
    "            if graph[x-1][y] =='#':\n",
    "                graph[x-1][y] = 'X'\n",
    "            if graph[x-1][y+1] =='#':\n",
    "                graph[x-1][y+1] = 'X'\n",
    "\n",
    "for i in range(N):\n",
    "    print(''.join(graph[i]))\n",
    "\n"
   ]
  },
  {
   "cell_type": "code",
   "execution_count": null,
   "metadata": {},
   "outputs": [],
   "source": [
    "from __future__ import annotations\n",
    "from typing import Any, Type\n",
    "\n",
    "class Node:\n",
    "    \"\"\"2分探索木のノード\"\"\"\n",
    "    def __init__(self, key, value, left=None, right=None):\n",
    "        self.key = key\n",
    "        self.value = value\n",
    "        self.left = left\n",
    "        self.right = right\n",
    "\n",
    "class BinarySerchTree:\n",
    "    \"\"\"２分探索木\"\"\"\n",
    "    def __init__(self):\n",
    "        self.root = None\n",
    "    \n",
    "    def serch(self, key):\n",
    "        p = self.root\n",
    "        while True:\n",
    "            if p is None:\n",
    "                return None\n",
    "            if key == p.key:\n",
    "                return p.value\n",
    "            elif key < p.key:\n",
    "                p = p.left\n",
    "            else:\n",
    "\n",
    "                p = p.right"
   ]
  },
  {
   "cell_type": "code",
   "execution_count": 6,
   "metadata": {},
   "outputs": [
    {
     "name": "stdout",
     "output_type": "stream",
     "text": [
      "3\n",
      "2\n",
      "1\n",
      "0\n"
     ]
    }
   ],
   "source": [
    "for i in range(3, -1, -1):\n",
    "    print(i)"
   ]
  },
  {
   "cell_type": "code",
   "execution_count": 25,
   "metadata": {},
   "outputs": [
    {
     "name": "stdout",
     "output_type": "stream",
     "text": [
      "10\n",
      "10\n",
      "20\n"
     ]
    }
   ],
   "source": [
    "N, M, Q = map(int, input().split())\n",
    "\n",
    "graph = [[False]*N]*N\n",
    "for _ in range(M):\n",
    "    x, y = map(int, input().split())\n",
    "    graph[x-1][y-1] = True\n",
    "    graph[y-1][x-1] = True\n",
    "\n",
    "\n",
    "color_list = list(map(int, input().split()))\n",
    "\n",
    "for _ in range(Q):\n",
    "    tmp = list(map(int, input().split()))\n",
    "    if tmp[0] == 1:\n",
    "        vertex = tmp[1]\n",
    "        print(color_list[vertex - 1])\n",
    "        for i in range(N):\n",
    "            if graph[vertex-1][i] == True:\n",
    "                color_list[i] = color_list[vertex - 1]\n",
    "    if tmp[0] == 2:\n",
    "        vertex = tmp[1]\n",
    "        print(color_list[vertex - 1])\n",
    "        color_list[vertex - 1] = tmp[2]\n",
    "\n",
    "\n"
   ]
  },
  {
   "cell_type": "code",
   "execution_count": 22,
   "metadata": {},
   "outputs": [
    {
     "name": "stdout",
     "output_type": "stream",
     "text": [
      "[[False, False, False], [False, False, False], [False, False, False]]\n"
     ]
    }
   ],
   "source": [
    "graph = [[False]*3]*3\n",
    "print(graph)"
   ]
  },
  {
   "cell_type": "code",
   "execution_count": 2,
   "metadata": {},
   "outputs": [
    {
     "name": "stdout",
     "output_type": "stream",
     "text": [
      "NYYNYY\n",
      "NNYNNN\n",
      "NNNYNN\n",
      "NNNNNN\n",
      "NNNNNY\n",
      "YNNNYN\n"
     ]
    }
   ],
   "source": [
    "N, Q = map(int, input().split())\n",
    "\n",
    "graph = []\n",
    "for i in range(N):\n",
    "    row = []\n",
    "    for j in range(N):\n",
    "        row.append(False)\n",
    "    graph.append(row)\n",
    "\n",
    "for _ in range(Q):\n",
    "    query = list(map(int, input().split()))\n",
    "    a = query[1]\n",
    "\n",
    "    if query[0] == 1:\n",
    "        b = query[2]\n",
    "        graph[a-1][b-1] = True\n",
    "\n",
    "    if query[0] == 2:\n",
    "        for i in range(N):\n",
    "            if graph[i][a-1]:\n",
    "                graph[a-1][i] = True\n",
    "\n",
    "    if query[0] == 3:\n",
    "        tmp = []\n",
    "        for i in range(N):\n",
    "            if graph[a-1][i]:\n",
    "                for j in range(N):\n",
    "                    if graph[i][j] and j != (a-1):\n",
    "                        tmp.append(j)\n",
    "        for w in tmp:\n",
    "            graph[a-1][w] = True\n",
    "\n",
    "for i in range(N):\n",
    "    for j in range(N):\n",
    "        if graph[i][j]:\n",
    "            print('Y', end = '')\n",
    "        else:\n",
    "            print('N', end = '')\n",
    "    print()\n"
   ]
  },
  {
   "cell_type": "code",
   "execution_count": null,
   "metadata": {},
   "outputs": [],
   "source": [
    "# BFSの実装練習\n",
    "\n",
    "from collections import deque\n",
    "N, E, s = map(int, input().split())\n",
    "\n",
    "visited = []\n",
    "for _ in range(N):\n",
    "    visited.append(False)\n",
    "\n",
    "Q = deque()\n",
    "Q.append(s)\n",
    "visited[s] = True\n",
    "while len(Q) > 0:\n",
    "    i = Q.popleft()\n",
    "    for j in E[i]:\n",
    "        if not visited[j]:\n",
    "            visited[j] = True\n",
    "            Q.append(j)"
   ]
  },
  {
   "cell_type": "code",
   "execution_count": 3,
   "metadata": {},
   "outputs": [
    {
     "ename": "ValueError",
     "evalue": "not enough values to unpack (expected 2, got 0)",
     "output_type": "error",
     "traceback": [
      "\u001b[1;31m---------------------------------------------------------------------------\u001b[0m",
      "\u001b[1;31mValueError\u001b[0m                                Traceback (most recent call last)",
      "Cell \u001b[1;32mIn [3], line 3\u001b[0m\n\u001b[0;32m      1\u001b[0m \u001b[39mfrom\u001b[39;00m \u001b[39mcollections\u001b[39;00m \u001b[39mimport\u001b[39;00m deque\n\u001b[1;32m----> 3\u001b[0m R, C \u001b[39m=\u001b[39m \u001b[39mmap\u001b[39m(\u001b[39mint\u001b[39m, \u001b[39minput\u001b[39m()\u001b[39m.\u001b[39msplit())\n\u001b[0;32m      4\u001b[0m sx, sy \u001b[39m=\u001b[39m \u001b[39mmap\u001b[39m(\u001b[39mint\u001b[39m, \u001b[39minput\u001b[39m()\u001b[39m.\u001b[39msplit())\n\u001b[0;32m      5\u001b[0m gx, gy \u001b[39m=\u001b[39m \u001b[39mmap\u001b[39m(\u001b[39mint\u001b[39m, \u001b[39minput\u001b[39m()\u001b[39m.\u001b[39msplit())\n",
      "\u001b[1;31mValueError\u001b[0m: not enough values to unpack (expected 2, got 0)"
     ]
    }
   ],
   "source": [
    "from collections import deque\n",
    "\n",
    "R, C = map(int, input().split())\n",
    "sx, sy = map(int, input().split())\n",
    "gx, gy = map(int, input().split())\n",
    "graph = []\n",
    "for _ in range(R):\n",
    "    row = input()\n",
    "    graph.append(row)\n",
    "\n",
    "sx = sx - 1\n",
    "sy = sy - 1\n",
    "gx = gx - 1\n",
    "gy = gy - 1\n",
    "\n",
    "dist = []\n",
    "for _ in range(R):\n",
    "    dist.append([-1]*C)\n",
    "\n",
    "Q = deque()\n",
    "Q.append([sx, sy])\n",
    "dist[sx, sy] = True\n",
    "\n",
    "while len(Q) > 0:\n",
    "    i, j = Q.popleft()\n",
    "    for a, b in [[i+1, j], [i-1, j], [i, j+1], [i, j-1]]:\n",
    "        if not (0 <= a < R and 0 <= b < C):\n",
    "            continue\n",
    "        if graph[i][j] == '#':\n",
    "            continue\n",
    "        if dist[a][b] == -1:\n",
    "            visited[a][b] = dist[i][j] + 1\n",
    "            Q.append([a][b])\n",
    "\n",
    "print(dist[gx, gy])"
   ]
  },
  {
   "cell_type": "code",
   "execution_count": null,
   "metadata": {},
   "outputs": [],
   "source": [
    "def dfs(x, y):\n",
    "    visited[x][y] = True\n",
    "    for x2, y2 in [[x-1, y], [x+1, y], [x, y-1], [x, y+1]]:\n",
    "        if not (0 <= x2 < H, 0 <= y2 < W):\n",
    "            continue\n",
    "        if map[x2][y2] == '#':\n",
    "            continue\n",
    "        if not visited[x2][y2]:\n",
    "            dfs(x2, y2)\n",
    "\n",
    "\n",
    "H, W = map(int, input().split())\n",
    "\n",
    "map = []\n",
    "for _ in range(H):\n",
    "    row = input()\n",
    "    map.append(row)\n",
    "\n",
    "visited = []\n",
    "for i in range(H):\n",
    "    tmp = []\n",
    "    for j in range(W):\n",
    "        tmp.append(False)\n",
    "    visited.append(tmp)\n",
    "\n",
    "for i in range(H):\n",
    "    for j in range(W):\n",
    "        if map[i][j] == 's':\n",
    "            sx = i\n",
    "            sy = j\n",
    "        if map[i][j] == 'g':\n",
    "            gx = i\n",
    "            gy = j\n",
    "\n",
    "dfs(sx, sy)\n",
    "if visited[gx][gy]:\n",
    "    print('Yes')\n",
    "else:\n",
    "    print('No')\n",
    "\n",
    "\n"
   ]
  },
  {
   "cell_type": "code",
   "execution_count": 5,
   "metadata": {},
   "outputs": [
    {
     "name": "stdout",
     "output_type": "stream",
     "text": [
      "18\n"
     ]
    }
   ],
   "source": [
    "N = int(input())\n",
    "\n",
    "ans = 0\n",
    "\n",
    "def dfs(n, use3, use5, use7):\n",
    "    global ans\n",
    "    if n > N:\n",
    "        return\n",
    "    if use3 and use5 and use7:\n",
    "        ans += 1\n",
    "    \n",
    "    dfs(10 * n + 3, True, use5, use7)\n",
    "    dfs(10 * n + 5, use3, True, use7)\n",
    "    dfs(10 * n + 7, use3, use5, True)\n",
    "\n",
    "dfs(0, False, False, False)\n",
    "print(ans)"
   ]
  },
  {
   "cell_type": "code",
   "execution_count": null,
   "metadata": {},
   "outputs": [],
   "source": []
  }
 ],
 "metadata": {
  "kernelspec": {
   "display_name": "Python 3",
   "language": "python",
   "name": "python3"
  },
  "language_info": {
   "codemirror_mode": {
    "name": "ipython",
    "version": 3
   },
   "file_extension": ".py",
   "mimetype": "text/x-python",
   "name": "python",
   "nbconvert_exporter": "python",
   "pygments_lexer": "ipython3",
   "version": "3.8.10 (tags/v3.8.10:3d8993a, May  3 2021, 11:48:03) [MSC v.1928 64 bit (AMD64)]"
  },
  "orig_nbformat": 4,
  "vscode": {
   "interpreter": {
    "hash": "bd66b7c64aa1dbe699f76549628d6f0b40563e0cc73f9f347f3220962b3a31c8"
   }
  }
 },
 "nbformat": 4,
 "nbformat_minor": 2
}
